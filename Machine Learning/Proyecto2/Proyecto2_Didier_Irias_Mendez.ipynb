{
 "cells": [
  {
   "attachments": {},
   "cell_type": "markdown",
   "metadata": {},
   "source": [
    "Importar librerias para el modelo"
   ]
  },
  {
   "cell_type": "code",
   "execution_count": 128,
   "metadata": {},
   "outputs": [],
   "source": [
    "import numpy as np\n",
    "from sklearn.model_selection import train_test_split\n",
    "from keras.datasets import mnist\n",
    "from keras.utils import to_categorical\n",
    "import matplotlib.pyplot as plt\n"
   ]
  },
  {
   "attachments": {},
   "cell_type": "markdown",
   "metadata": {},
   "source": [
    "Creación de un perceptrón manual de una sola capa"
   ]
  },
  {
   "cell_type": "code",
   "execution_count": 129,
   "metadata": {},
   "outputs": [],
   "source": [
    "class BasicPerceptron:\n",
    "    def __init__(self, learning_rate=0.01, epochs=100, weights=None, bias=None):\n",
    "        self.learning_rate = learning_rate\n",
    "        self.epochs = epochs\n",
    "        self.weights = weights\n",
    "        self.bias = bias\n",
    "        self.activation_functions = {\n",
    "            'sigmoid': self.sigmoid,\n",
    "            'relu': self.relu,\n",
    "            'step': self.step\n",
    "        }\n",
    "\n",
    "    def fit(self, X, y, activation_function='sigmoid'):\n",
    "        n_samples, n_features = X.shape\n",
    "        n_classes = y.shape[1]  # Número de clases para la capa de salida\n",
    "        self.weights = np.zeros((n_features, n_classes))\n",
    "        self.bias = np.zeros(n_classes)\n",
    "\n",
    "        for _ in range(self.epochs):\n",
    "            for i in range(n_samples):\n",
    "                linear_output = np.dot(X[i], self.weights) + self.bias\n",
    "                predicted = self.activation(linear_output, activation_function)\n",
    "                error = y[i] - predicted\n",
    "\n",
    "                # Update weights and bias using backpropagation\n",
    "                self.weights += self.learning_rate * np.outer(X[i], error)\n",
    "                self.bias += self.learning_rate * error\n",
    "\n",
    "    def step(self, x):\n",
    "        \"\"\"\n",
    "        Step activation function\n",
    "        \"\"\"\n",
    "        return 1 if x >= 0 else 0\n",
    "        \n",
    "    def sigmoid(self, x):\n",
    "        \"\"\"\n",
    "        Sigmoid activation function\n",
    "        \"\"\"\n",
    "        return 1 / (1 + np.exp(-x))\n",
    "    \n",
    "    def relu(self, x):\n",
    "        \"\"\"\n",
    "        ReLU activation function\n",
    "        \"\"\"\n",
    "        return np.sigmoid(0, x)\n",
    "\n",
    "    def activation(self, x, activation_function='sigmoid'):\n",
    "        \"\"\"\n",
    "        Sigmoid activation function\n",
    "        \"\"\"\n",
    "        if activation_function in self.activation_functions:\n",
    "            return self.activation_functions[activation_function](x)\n",
    "        else:\n",
    "            raise Exception('Activation function not allowed')\n",
    "\n",
    "    def predict(self, X):\n",
    "        \"\"\"\n",
    "        It creates a linear output which is passed by an activation function\n",
    "        \"\"\"\n",
    "        linear_output = np.dot(X, self.weights) + self.bias\n",
    "        return self.activation(linear_output)\n",
    "\n",
    "    def accuracy(self, X, y_true):\n",
    "        \"\"\"\n",
    "        Returns the accuracy of the model\n",
    "        \"\"\"\n",
    "        y_pred = self.predict(X)\n",
    "        return np.mean(np.argmax(y_pred, axis=1) == np.argmax(y_true, axis=1))\n"
   ]
  },
  {
   "cell_type": "code",
   "execution_count": 130,
   "metadata": {},
   "outputs": [],
   "source": [
    " #Cargar los datos MNIST\n",
    "(train_data, train_labels), (test_data, test_labels) = mnist.load_data()\n",
    "\n",
    "# Preprocesar los datos y las etiquetas\n",
    "x_train = train_data.reshape((60000, 28*28))\n",
    "x_train = x_train.astype('float32') / 255\n",
    "\n",
    "x_test = test_data.reshape((10000, 28*28))\n",
    "x_test = x_test.astype('float32') / 255\n",
    "\n",
    "y_train = to_categorical(train_labels)\n",
    "y_test = to_categorical(test_labels)"
   ]
  },
  {
   "cell_type": "code",
   "execution_count": 131,
   "metadata": {},
   "outputs": [
    {
     "data": {
      "text/plain": [
       "(<matplotlib.image.AxesImage at 0x2a6ed3970>, 1)"
      ]
     },
     "execution_count": 131,
     "metadata": {},
     "output_type": "execute_result"
    },
    {
     "data": {
      "image/png": "[encoded data removed]",
      "text/plain": [
       "<Figure size 640x480 with 1 Axes>"
      ]
     },
     "metadata": {},
     "output_type": "display_data"
    }
   ],
   "source": [
    "# Ver las imagenes con matplotli\n",
    "plt.imshow(train_data[3]), train_labels[3]"
   ]
  },
  {
   "cell_type": "markdown",
   "metadata": {},
   "source": [
    "Entrenamiento 1:"
   ]
  },
  {
   "cell_type": "code",
   "execution_count": 132,
   "metadata": {},
   "outputs": [
    {
     "name": "stdout",
     "output_type": "stream",
     "text": [
      "Accuracy: 0.91\n"
     ]
    }
   ],
   "source": [
    "\n",
    "# Crear el modelo con el perceptrón\n",
    "model = BasicPerceptron()\n",
    "\n",
    "# Entrenar el modelo con los datos de entrenamiento\n",
    "model.fit(x_train, y_train)\n",
    "\n",
    "# Evaluar la precisión (accuracy) del modelo en los datos de prueba\n",
    "accuracy = model.accuracy(x_test, y_test)\n",
    "print(\"Accuracy:\", accuracy)"
   ]
  },
  {
   "cell_type": "markdown",
   "metadata": {},
   "source": [
    "Entrenamiento 2:"
   ]
  },
  {
   "cell_type": "code",
   "execution_count": 133,
   "metadata": {},
   "outputs": [
    {
     "name": "stdout",
     "output_type": "stream",
     "text": [
      "Accuracy: 0.9063\n"
     ]
    }
   ],
   "source": [
    "# Crear el modelo con el perceptrón\n",
    "model = BasicPerceptron(learning_rate=0.01, epochs=5)\n",
    "\n",
    "# Entrenar el modelo con los datos de entrenamiento\n",
    "model.fit(x_train, y_train)\n",
    "\n",
    "# Evaluar la precisión (accuracy) del modelo en los datos de prueba\n",
    "accuracy = model.accuracy(x_test, y_test)\n",
    "print(\"Accuracy:\", accuracy)"
   ]
  },
  {
   "cell_type": "markdown",
   "metadata": {},
   "source": [
    "Entrenamiento 3:"
   ]
  },
  {
   "cell_type": "code",
   "execution_count": 134,
   "metadata": {},
   "outputs": [
    {
     "name": "stdout",
     "output_type": "stream",
     "text": [
      "Accuracy: 0.9097\n"
     ]
    }
   ],
   "source": [
    "# Crear el modelo con el perceptrón\n",
    "model = BasicPerceptron(learning_rate=0.01, epochs=200)\n",
    "\n",
    "# Entrenar el modelo con los datos de entrenamiento\n",
    "model.fit(x_train, y_train)\n",
    "\n",
    "# Evaluar la precisión (accuracy) del modelo en los datos de prueba\n",
    "accuracy = model.accuracy(x_test, y_test)\n",
    "print(\"Accuracy:\", accuracy)"
   ]
  }
 ],
 "metadata": {
  "kernelspec": {
   "display_name": "dataScience",
   "language": "python",
   "name": "python3"
  },
  "language_info": {
   "codemirror_mode": {
    "name": "ipython",
    "version": 3
   },
   "file_extension": ".py",
   "mimetype": "text/x-python",
   "name": "python",
   "nbconvert_exporter": "python",
   "pygments_lexer": "ipython3",
   "version": "3.10.9"
  },
  "orig_nbformat": 4
 },
 "nbformat": 4,
 "nbformat_minor": 2
}

{
 "cells": [
  {
   "cell_type": "code",
   "execution_count": 31,
   "metadata": {},
   "outputs": [
    {
     "name": "stderr",
     "output_type": "stream",
     "text": [
      "/var/folders/dm/bzfhlzk90374nx5vf5sn63lh0000gn/T/ipykernel_97911/3062058895.py:11: SettingWithCopyWarning: \n",
      "A value is trying to be set on a copy of a slice from a DataFrame\n",
      "\n",
      "See the caveats in the documentation: https://pandas.pydata.org/pandas-docs/stable/user_guide/indexing.html#returning-a-view-versus-a-copy\n",
      "  df_select.dropna(inplace=True)\n"
     ]
    }
   ],
   "source": [
    "import numpy as np\n",
    "import pandas as pd\n",
    "import matplotlib.pyplot as plt\n",
    "import seaborn as sns\n",
    "from sklearn.cluster import KMeans, DBSCAN, AgglomerativeClustering\n",
    "from sklearn.preprocessing import StandardScaler\n",
    "\n",
    "# Seleccionar las características relevantes\n",
    "df = pd.read_csv(\"../datasets/AirlineReviews.csv\", encoding=\"latin-1\")\n",
    "df_select = df[['GroundServiceRating', 'EntertainmentRating', 'CabinType']]\n",
    "df_select.dropna(inplace=True)\n",
    "scaler = StandardScaler()\n",
    "df_std = pd.DataFrame(scaler.fit_transform(df_select.iloc[:, 0:2]),\n",
    "                      columns=['GroundServiceRating', 'EntertainmentRating'])\n",
    "df_std['CabinType'] = df_select['CabinType']"
   ]
  },
  {
   "cell_type": "code",
   "execution_count": 32,
   "metadata": {},
   "outputs": [],
   "source": [
    "color_dict = {'First Class': '#F65E5D', 'Economy Class': '#3AB4F2', 'Business Class': '#FFBC46', 'Premium Economy': '#2F9C95'}\n",
    "label_dict = {0: 'First Class', 1: 'Economy Class', 2: 'Business Class', 3: 'Premium Economy'}"
   ]
  },
  {
   "cell_type": "code",
   "execution_count": 33,
   "metadata": {},
   "outputs": [
    {
     "name": "stderr",
     "output_type": "stream",
     "text": [
      "/opt/homebrew/Caskroom/miniconda/base/envs/dataScience/lib/python3.10/site-packages/sklearn/cluster/_kmeans.py:870: FutureWarning: The default value of `n_init` will change from 10 to 'auto' in 1.4. Set the value of `n_init` explicitly to suppress the warning\n",
      "  warnings.warn(\n"
     ]
    }
   ],
   "source": [
    "kmeans = KMeans(n_clusters=4, random_state=42, max_iter=1000).fit(df_std[['GroundServiceRating', 'EntertainmentRating']])\n",
    "df_std['KMeans_Cluster'] = kmeans.labels_"
   ]
  },
  {
   "cell_type": "code",
   "execution_count": 34,
   "metadata": {},
   "outputs": [],
   "source": [
    "dbscan = DBSCAN(eps=0.3, min_samples=5).fit(df_std[['GroundServiceRating', 'EntertainmentRating']])\n",
    "df_std['DBSCAN_Cluster'] = dbscan.labels_"
   ]
  },
  {
   "cell_type": "code",
   "execution_count": 35,
   "metadata": {},
   "outputs": [],
   "source": [
    "hierarchical = AgglomerativeClustering(n_clusters=4).fit(df_std[['GroundServiceRating', 'EntertainmentRating']])\n",
    "df_std['Hierarchical_Cluster'] = hierarchical.labels_"
   ]
  },
  {
   "cell_type": "code",
   "execution_count": 36,
   "metadata": {},
   "outputs": [
    {
     "ename": "ValueError",
     "evalue": "The palette dictionary is missing keys: {0, 1, 2, 3}",
     "output_type": "error",
     "traceback": [
      "\u001b[0;31m---------------------------------------------------------------------------\u001b[0m",
      "\u001b[0;31mValueError\u001b[0m                                Traceback (most recent call last)",
      "Cell \u001b[0;32mIn[36], line 5\u001b[0m\n\u001b[1;32m      2\u001b[0m plt\u001b[39m.\u001b[39mfigure(figsize\u001b[39m=\u001b[39m(\u001b[39m11\u001b[39m, \u001b[39m9\u001b[39m))\n\u001b[1;32m      4\u001b[0m \u001b[39m# Scatter plot for K-means\u001b[39;00m\n\u001b[0;32m----> 5\u001b[0m kmeans_plot \u001b[39m=\u001b[39m sns\u001b[39m.\u001b[39;49mscatterplot(data\u001b[39m=\u001b[39;49mdf_std, x\u001b[39m=\u001b[39;49m\u001b[39m'\u001b[39;49m\u001b[39mGroundServiceRating\u001b[39;49m\u001b[39m'\u001b[39;49m, y\u001b[39m=\u001b[39;49m\u001b[39m'\u001b[39;49m\u001b[39mEntertainmentRating\u001b[39;49m\u001b[39m'\u001b[39;49m,\n\u001b[1;32m      6\u001b[0m                               hue\u001b[39m=\u001b[39;49m\u001b[39m'\u001b[39;49m\u001b[39mKMeans_Cluster\u001b[39;49m\u001b[39m'\u001b[39;49m, palette\u001b[39m=\u001b[39;49mcolor_dict, s\u001b[39m=\u001b[39;49m\u001b[39m36\u001b[39;49m, linewidth\u001b[39m=\u001b[39;49m\u001b[39m0\u001b[39;49m, alpha\u001b[39m=\u001b[39;49m\u001b[39m0.7\u001b[39;49m)\n",
      "File \u001b[0;32m/opt/homebrew/Caskroom/miniconda/base/envs/dataScience/lib/python3.10/site-packages/seaborn/relational.py:744\u001b[0m, in \u001b[0;36mscatterplot\u001b[0;34m(data, x, y, hue, size, style, palette, hue_order, hue_norm, sizes, size_order, size_norm, markers, style_order, legend, ax, **kwargs)\u001b[0m\n\u001b[1;32m    741\u001b[0m variables \u001b[39m=\u001b[39m _ScatterPlotter\u001b[39m.\u001b[39mget_semantics(\u001b[39mlocals\u001b[39m())\n\u001b[1;32m    742\u001b[0m p \u001b[39m=\u001b[39m _ScatterPlotter(data\u001b[39m=\u001b[39mdata, variables\u001b[39m=\u001b[39mvariables, legend\u001b[39m=\u001b[39mlegend)\n\u001b[0;32m--> 744\u001b[0m p\u001b[39m.\u001b[39;49mmap_hue(palette\u001b[39m=\u001b[39;49mpalette, order\u001b[39m=\u001b[39;49mhue_order, norm\u001b[39m=\u001b[39;49mhue_norm)\n\u001b[1;32m    745\u001b[0m p\u001b[39m.\u001b[39mmap_size(sizes\u001b[39m=\u001b[39msizes, order\u001b[39m=\u001b[39msize_order, norm\u001b[39m=\u001b[39msize_norm)\n\u001b[1;32m    746\u001b[0m p\u001b[39m.\u001b[39mmap_style(markers\u001b[39m=\u001b[39mmarkers, order\u001b[39m=\u001b[39mstyle_order)\n",
      "File \u001b[0;32m/opt/homebrew/Caskroom/miniconda/base/envs/dataScience/lib/python3.10/site-packages/seaborn/_oldcore.py:55\u001b[0m, in \u001b[0;36mSemanticMapping.map\u001b[0;34m(cls, plotter, *args, **kwargs)\u001b[0m\n\u001b[1;32m     52\u001b[0m \u001b[39mdef\u001b[39;00m \u001b[39mmap\u001b[39m(\u001b[39mcls\u001b[39m, plotter, \u001b[39m*\u001b[39margs, \u001b[39m*\u001b[39m\u001b[39m*\u001b[39mkwargs):\n\u001b[1;32m     53\u001b[0m     \u001b[39m# This method is assigned the __init__ docstring\u001b[39;00m\n\u001b[1;32m     54\u001b[0m     method_name \u001b[39m=\u001b[39m \u001b[39mf\u001b[39m\u001b[39m\"\u001b[39m\u001b[39m_\u001b[39m\u001b[39m{\u001b[39;00m\u001b[39mcls\u001b[39m\u001b[39m.\u001b[39m\u001b[39m__name__\u001b[39m[:\u001b[39m-\u001b[39m\u001b[39m7\u001b[39m]\u001b[39m.\u001b[39mlower()\u001b[39m}\u001b[39;00m\u001b[39m_map\u001b[39m\u001b[39m\"\u001b[39m\n\u001b[0;32m---> 55\u001b[0m     \u001b[39msetattr\u001b[39m(plotter, method_name, \u001b[39mcls\u001b[39;49m(plotter, \u001b[39m*\u001b[39;49margs, \u001b[39m*\u001b[39;49m\u001b[39m*\u001b[39;49mkwargs))\n\u001b[1;32m     56\u001b[0m     \u001b[39mreturn\u001b[39;00m plotter\n",
      "File \u001b[0;32m/opt/homebrew/Caskroom/miniconda/base/envs/dataScience/lib/python3.10/site-packages/seaborn/_oldcore.py:148\u001b[0m, in \u001b[0;36mHueMapping.__init__\u001b[0;34m(self, plotter, palette, order, norm)\u001b[0m\n\u001b[1;32m    145\u001b[0m \u001b[39melif\u001b[39;00m map_type \u001b[39m==\u001b[39m \u001b[39m\"\u001b[39m\u001b[39mcategorical\u001b[39m\u001b[39m\"\u001b[39m:\n\u001b[1;32m    147\u001b[0m     cmap \u001b[39m=\u001b[39m norm \u001b[39m=\u001b[39m \u001b[39mNone\u001b[39;00m\n\u001b[0;32m--> 148\u001b[0m     levels, lookup_table \u001b[39m=\u001b[39m \u001b[39mself\u001b[39;49m\u001b[39m.\u001b[39;49mcategorical_mapping(\n\u001b[1;32m    149\u001b[0m         data, palette, order,\n\u001b[1;32m    150\u001b[0m     )\n\u001b[1;32m    152\u001b[0m \u001b[39m# --- Option 3: datetime mapping\u001b[39;00m\n\u001b[1;32m    153\u001b[0m \n\u001b[1;32m    154\u001b[0m \u001b[39melse\u001b[39;00m:\n\u001b[1;32m    155\u001b[0m     \u001b[39m# TODO this needs actual implementation\u001b[39;00m\n\u001b[1;32m    156\u001b[0m     cmap \u001b[39m=\u001b[39m norm \u001b[39m=\u001b[39m \u001b[39mNone\u001b[39;00m\n",
      "File \u001b[0;32m/opt/homebrew/Caskroom/miniconda/base/envs/dataScience/lib/python3.10/site-packages/seaborn/_oldcore.py:227\u001b[0m, in \u001b[0;36mHueMapping.categorical_mapping\u001b[0;34m(self, data, palette, order)\u001b[0m\n\u001b[1;32m    225\u001b[0m     \u001b[39mif\u001b[39;00m \u001b[39many\u001b[39m(missing):\n\u001b[1;32m    226\u001b[0m         err \u001b[39m=\u001b[39m \u001b[39m\"\u001b[39m\u001b[39mThe palette dictionary is missing keys: \u001b[39m\u001b[39m{}\u001b[39;00m\u001b[39m\"\u001b[39m\n\u001b[0;32m--> 227\u001b[0m         \u001b[39mraise\u001b[39;00m \u001b[39mValueError\u001b[39;00m(err\u001b[39m.\u001b[39mformat(missing))\n\u001b[1;32m    229\u001b[0m     lookup_table \u001b[39m=\u001b[39m palette\n\u001b[1;32m    231\u001b[0m \u001b[39melse\u001b[39;00m:\n",
      "\u001b[0;31mValueError\u001b[0m: The palette dictionary is missing keys: {0, 1, 2, 3}"
     ]
    },
    {
     "data": {
      "text/plain": [
       "<Figure size 1100x900 with 0 Axes>"
      ]
     },
     "metadata": {},
     "output_type": "display_data"
    }
   ],
   "source": [
    "sns.set(rc={'axes.facecolor': 'EFEFEF'})\n",
    "plt.figure(figsize=(11, 9))\n",
    "\n",
    "# Scatter plot for K-means\n",
    "kmeans_plot = sns.scatterplot(data=df_std, x='GroundServiceRating', y='EntertainmentRating',\n",
    "                              hue='KMeans_Cluster', palette=color_dict, s=36, linewidth=0, alpha=0.7)"
   ]
  },
  {
   "cell_type": "code",
   "execution_count": null,
   "metadata": {},
   "outputs": [],
   "source": [
    "# Scatter plot for DBSCAN\n",
    "dbscan_plot = sns.scatterplot(data=df_std, x='GroundServiceRating', y='EntertainmentRating',\n",
    "                              hue='DBSCAN_Cluster', palette=color_dict, marker='x', s=100, linewidth=1.5)\n",
    "\n",
    "# Scatter plot for Hierarchical clustering\n",
    "hierarchical_plot = sns.scatterplot(data=df_std, x='GroundServiceRating', y='EntertainmentRating',\n",
    "                                    hue='Hierarchical_Cluster', palette=color_dict, marker='s', s=50, linewidth=1)\n",
    "\n",
    "# Set the plot limits\n",
    "plt.xlim(-3, 3)\n",
    "plt.ylim(-3, 3)\n",
    "\n",
    "# Add legends\n",
    "legend_handles = [plt.Line2D([0], [0], marker='o', color='w', markerfacecolor=color, markersize=6) for color in color_dict.values()]\n",
    "legend_labels = list(color_dict.keys())\n",
    "kmeans_plot.legend(legend_handles, legend_labels, title='K-Means Clusters', loc='upper left')\n",
    "\n",
    "legend_handles = [plt.Line2D([0], [0], marker='x', color='w', markeredgecolor=color, markersize=10, linestyle='None') for color in color_dict.values()]\n",
    "legend_labels = list(color_dict.keys())\n",
    "dbscan_plot.legend(legend_handles, legend_labels, title='DBSCAN Clusters', loc='upper left')\n",
    "\n",
    "legend_handles = [plt.Line2D([0], [0], marker='s', color='w', markerfacecolor=color, markersize=6) for color in color_dict.values()]\n",
    "legend_labels = list(color_dict.keys())\n",
    "hierarchical_plot.legend(legend_handles, legend_labels, title='Hierarchical Clusters', loc='upper left')\n",
    "\n",
    "# Save the plot\n",
    "plt.savefig('scatter.png')\n",
    "\n",
    "# Show the plot\n",
    "plt.show()"
   ]
  }
 ],
 "metadata": {
  "kernelspec": {
   "display_name": "dataScience",
   "language": "python",
   "name": "python3"
  },
  "language_info": {
   "codemirror_mode": {
    "name": "ipython",
    "version": 3
   },
   "file_extension": ".py",
   "mimetype": "text/x-python",
   "name": "python",
   "nbconvert_exporter": "python",
   "pygments_lexer": "ipython3",
   "version": "3.10.9"
  },
  "orig_nbformat": 4
 },
 "nbformat": 4,
 "nbformat_minor": 2
}

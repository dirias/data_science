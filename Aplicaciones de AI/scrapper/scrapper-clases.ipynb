{
 "cells": [
  {
   "cell_type": "markdown",
   "metadata": {
    "nteract": {
     "transient": {
      "deleting": false
     }
    }
   },
   "source": [
    "# Caso de uso: leer Facebook, obtener estadísticas y aplicar análisis de sentimiento"
   ]
  },
  {
   "cell_type": "code",
   "execution_count": 4,
   "metadata": {
    "gather": {
     "logged": 1664506037828
    },
    "jupyter": {
     "outputs_hidden": false,
     "source_hidden": false
    },
    "nteract": {
     "transient": {
      "deleting": false
     }
    }
   },
   "outputs": [],
   "source": [
    "from facebook_scraper import get_posts\n",
    "import pandas as pd\n",
    "import matplotlib.pyplot as plt\n",
    "import seaborn as sns"
   ]
  },
  {
   "cell_type": "code",
   "execution_count": 5,
   "metadata": {
    "gather": {
     "logged": 1664506040479
    },
    "jupyter": {
     "outputs_hidden": false,
     "source_hidden": false
    },
    "nteract": {
     "transient": {
      "deleting": false
     }
    }
   },
   "outputs": [],
   "source": [
    "# Inicialice el marco de datos para raspar la publicación de Facebook\n",
    "post_df_full = pd.DataFrame(columns = [])"
   ]
  },
  {
   "cell_type": "code",
   "execution_count": 6,
   "metadata": {
    "gather": {
     "logged": 1664507062167
    },
    "jupyter": {
     "outputs_hidden": false,
     "source_hidden": false
    },
    "nteract": {
     "transient": {
      "deleting": false
     }
    }
   },
   "outputs": [
    {
     "name": "stderr",
     "output_type": "stream",
     "text": [
      "/opt/homebrew/Caskroom/miniconda/base/envs/dataScience/lib/python3.10/site-packages/dateparser/freshness_date_parser.py:76: PytzUsageWarning: The localize method is no longer necessary, as this time zone supports the fold attribute (PEP 495). For more details on migrating to a PEP 495-compliant implementation, see https://pytz-deprecation-shim.readthedocs.io/en/latest/migration.html\n",
      "  now = self.get_local_tz().localize(now)\n",
      "/var/folders/dm/bzfhlzk90374nx5vf5sn63lh0000gn/T/ipykernel_13208/4169682060.py:7: FutureWarning: The frame.append method is deprecated and will be removed from pandas in a future version. Use pandas.concat instead.\n",
      "  post_df_full = post_df_full.append(fb_post_df)\n"
     ]
    },
    {
     "name": "stdout",
     "output_type": "stream",
     "text": [
      "6372559649444190 get\n"
     ]
    },
    {
     "name": "stderr",
     "output_type": "stream",
     "text": [
      "/opt/homebrew/Caskroom/miniconda/base/envs/dataScience/lib/python3.10/site-packages/dateparser/freshness_date_parser.py:76: PytzUsageWarning: The localize method is no longer necessary, as this time zone supports the fold attribute (PEP 495). For more details on migrating to a PEP 495-compliant implementation, see https://pytz-deprecation-shim.readthedocs.io/en/latest/migration.html\n",
      "  now = self.get_local_tz().localize(now)\n",
      "/var/folders/dm/bzfhlzk90374nx5vf5sn63lh0000gn/T/ipykernel_13208/4169682060.py:7: FutureWarning: The frame.append method is deprecated and will be removed from pandas in a future version. Use pandas.concat instead.\n",
      "  post_df_full = post_df_full.append(fb_post_df)\n"
     ]
    },
    {
     "name": "stdout",
     "output_type": "stream",
     "text": [
      "6372253112808177 get\n"
     ]
    },
    {
     "name": "stderr",
     "output_type": "stream",
     "text": [
      "/var/folders/dm/bzfhlzk90374nx5vf5sn63lh0000gn/T/ipykernel_13208/4169682060.py:7: FutureWarning: The frame.append method is deprecated and will be removed from pandas in a future version. Use pandas.concat instead.\n",
      "  post_df_full = post_df_full.append(fb_post_df)\n"
     ]
    },
    {
     "name": "stdout",
     "output_type": "stream",
     "text": [
      "6307937159239773 get\n"
     ]
    },
    {
     "name": "stderr",
     "output_type": "stream",
     "text": [
      "/var/folders/dm/bzfhlzk90374nx5vf5sn63lh0000gn/T/ipykernel_13208/4169682060.py:7: FutureWarning: The frame.append method is deprecated and will be removed from pandas in a future version. Use pandas.concat instead.\n",
      "  post_df_full = post_df_full.append(fb_post_df)\n"
     ]
    },
    {
     "name": "stdout",
     "output_type": "stream",
     "text": [
      "6372510159449139 get\n"
     ]
    },
    {
     "name": "stderr",
     "output_type": "stream",
     "text": [
      "/var/folders/dm/bzfhlzk90374nx5vf5sn63lh0000gn/T/ipykernel_13208/4169682060.py:7: FutureWarning: The frame.append method is deprecated and will be removed from pandas in a future version. Use pandas.concat instead.\n",
      "  post_df_full = post_df_full.append(fb_post_df)\n"
     ]
    },
    {
     "name": "stdout",
     "output_type": "stream",
     "text": [
      "6324244904275665 get\n"
     ]
    },
    {
     "name": "stderr",
     "output_type": "stream",
     "text": [
      "/var/folders/dm/bzfhlzk90374nx5vf5sn63lh0000gn/T/ipykernel_13208/4169682060.py:7: FutureWarning: The frame.append method is deprecated and will be removed from pandas in a future version. Use pandas.concat instead.\n",
      "  post_df_full = post_df_full.append(fb_post_df)\n"
     ]
    },
    {
     "name": "stdout",
     "output_type": "stream",
     "text": [
      "6372544126112409 get\n"
     ]
    },
    {
     "name": "stderr",
     "output_type": "stream",
     "text": [
      "/var/folders/dm/bzfhlzk90374nx5vf5sn63lh0000gn/T/ipykernel_13208/4169682060.py:7: FutureWarning: The frame.append method is deprecated and will be removed from pandas in a future version. Use pandas.concat instead.\n",
      "  post_df_full = post_df_full.append(fb_post_df)\n"
     ]
    },
    {
     "name": "stdout",
     "output_type": "stream",
     "text": [
      "6372480809452074 get\n"
     ]
    },
    {
     "name": "stderr",
     "output_type": "stream",
     "text": [
      "/var/folders/dm/bzfhlzk90374nx5vf5sn63lh0000gn/T/ipykernel_13208/4169682060.py:7: FutureWarning: The frame.append method is deprecated and will be removed from pandas in a future version. Use pandas.concat instead.\n",
      "  post_df_full = post_df_full.append(fb_post_df)\n"
     ]
    },
    {
     "name": "stdout",
     "output_type": "stream",
     "text": [
      "6365594476807374 get\n"
     ]
    },
    {
     "name": "stderr",
     "output_type": "stream",
     "text": [
      "/var/folders/dm/bzfhlzk90374nx5vf5sn63lh0000gn/T/ipykernel_13208/4169682060.py:7: FutureWarning: The frame.append method is deprecated and will be removed from pandas in a future version. Use pandas.concat instead.\n",
      "  post_df_full = post_df_full.append(fb_post_df)\n"
     ]
    },
    {
     "name": "stdout",
     "output_type": "stream",
     "text": [
      "6365612186805603 get\n"
     ]
    },
    {
     "name": "stderr",
     "output_type": "stream",
     "text": [
      "/var/folders/dm/bzfhlzk90374nx5vf5sn63lh0000gn/T/ipykernel_13208/4169682060.py:7: FutureWarning: The frame.append method is deprecated and will be removed from pandas in a future version. Use pandas.concat instead.\n",
      "  post_df_full = post_df_full.append(fb_post_df)\n"
     ]
    },
    {
     "name": "stdout",
     "output_type": "stream",
     "text": [
      "6324195704280585 get\n"
     ]
    },
    {
     "name": "stderr",
     "output_type": "stream",
     "text": [
      "/var/folders/dm/bzfhlzk90374nx5vf5sn63lh0000gn/T/ipykernel_13208/4169682060.py:7: FutureWarning: The frame.append method is deprecated and will be removed from pandas in a future version. Use pandas.concat instead.\n",
      "  post_df_full = post_df_full.append(fb_post_df)\n"
     ]
    },
    {
     "name": "stdout",
     "output_type": "stream",
     "text": [
      "6363099457056876 get\n"
     ]
    },
    {
     "name": "stderr",
     "output_type": "stream",
     "text": [
      "/var/folders/dm/bzfhlzk90374nx5vf5sn63lh0000gn/T/ipykernel_13208/4169682060.py:7: FutureWarning: The frame.append method is deprecated and will be removed from pandas in a future version. Use pandas.concat instead.\n",
      "  post_df_full = post_df_full.append(fb_post_df)\n"
     ]
    },
    {
     "name": "stdout",
     "output_type": "stream",
     "text": [
      "6362867780413377 get\n"
     ]
    },
    {
     "name": "stderr",
     "output_type": "stream",
     "text": [
      "/var/folders/dm/bzfhlzk90374nx5vf5sn63lh0000gn/T/ipykernel_13208/4169682060.py:7: FutureWarning: The frame.append method is deprecated and will be removed from pandas in a future version. Use pandas.concat instead.\n",
      "  post_df_full = post_df_full.append(fb_post_df)\n"
     ]
    },
    {
     "name": "stdout",
     "output_type": "stream",
     "text": [
      "6361832410516914 get\n"
     ]
    },
    {
     "name": "stderr",
     "output_type": "stream",
     "text": [
      "/var/folders/dm/bzfhlzk90374nx5vf5sn63lh0000gn/T/ipykernel_13208/4169682060.py:7: FutureWarning: The frame.append method is deprecated and will be removed from pandas in a future version. Use pandas.concat instead.\n",
      "  post_df_full = post_df_full.append(fb_post_df)\n"
     ]
    },
    {
     "name": "stdout",
     "output_type": "stream",
     "text": [
      "6361802917186530 get\n"
     ]
    },
    {
     "name": "stderr",
     "output_type": "stream",
     "text": [
      "/var/folders/dm/bzfhlzk90374nx5vf5sn63lh0000gn/T/ipykernel_13208/4169682060.py:7: FutureWarning: The frame.append method is deprecated and will be removed from pandas in a future version. Use pandas.concat instead.\n",
      "  post_df_full = post_df_full.append(fb_post_df)\n"
     ]
    },
    {
     "name": "stdout",
     "output_type": "stream",
     "text": [
      "6327900137243475 get\n"
     ]
    },
    {
     "name": "stderr",
     "output_type": "stream",
     "text": [
      "/var/folders/dm/bzfhlzk90374nx5vf5sn63lh0000gn/T/ipykernel_13208/4169682060.py:7: FutureWarning: The frame.append method is deprecated and will be removed from pandas in a future version. Use pandas.concat instead.\n",
      "  post_df_full = post_df_full.append(fb_post_df)\n"
     ]
    },
    {
     "name": "stdout",
     "output_type": "stream",
     "text": [
      "6361821393851349 get\n"
     ]
    },
    {
     "name": "stderr",
     "output_type": "stream",
     "text": [
      "/var/folders/dm/bzfhlzk90374nx5vf5sn63lh0000gn/T/ipykernel_13208/4169682060.py:7: FutureWarning: The frame.append method is deprecated and will be removed from pandas in a future version. Use pandas.concat instead.\n",
      "  post_df_full = post_df_full.append(fb_post_df)\n"
     ]
    },
    {
     "name": "stdout",
     "output_type": "stream",
     "text": [
      "6359150304118458 get\n"
     ]
    },
    {
     "name": "stderr",
     "output_type": "stream",
     "text": [
      "/var/folders/dm/bzfhlzk90374nx5vf5sn63lh0000gn/T/ipykernel_13208/4169682060.py:7: FutureWarning: The frame.append method is deprecated and will be removed from pandas in a future version. Use pandas.concat instead.\n",
      "  post_df_full = post_df_full.append(fb_post_df)\n"
     ]
    },
    {
     "name": "stdout",
     "output_type": "stream",
     "text": [
      "6358374210862734 get\n"
     ]
    },
    {
     "name": "stderr",
     "output_type": "stream",
     "text": [
      "/var/folders/dm/bzfhlzk90374nx5vf5sn63lh0000gn/T/ipykernel_13208/4169682060.py:7: FutureWarning: The frame.append method is deprecated and will be removed from pandas in a future version. Use pandas.concat instead.\n",
      "  post_df_full = post_df_full.append(fb_post_df)\n"
     ]
    },
    {
     "name": "stdout",
     "output_type": "stream",
     "text": [
      "6351210598245762 get\n"
     ]
    },
    {
     "name": "stderr",
     "output_type": "stream",
     "text": [
      "/var/folders/dm/bzfhlzk90374nx5vf5sn63lh0000gn/T/ipykernel_13208/4169682060.py:7: FutureWarning: The frame.append method is deprecated and will be removed from pandas in a future version. Use pandas.concat instead.\n",
      "  post_df_full = post_df_full.append(fb_post_df)\n"
     ]
    },
    {
     "name": "stdout",
     "output_type": "stream",
     "text": [
      "6356654861034669 get\n"
     ]
    },
    {
     "name": "stderr",
     "output_type": "stream",
     "text": [
      "/var/folders/dm/bzfhlzk90374nx5vf5sn63lh0000gn/T/ipykernel_13208/4169682060.py:7: FutureWarning: The frame.append method is deprecated and will be removed from pandas in a future version. Use pandas.concat instead.\n",
      "  post_df_full = post_df_full.append(fb_post_df)\n"
     ]
    },
    {
     "name": "stdout",
     "output_type": "stream",
     "text": [
      "6356353307731491 get\n"
     ]
    },
    {
     "name": "stderr",
     "output_type": "stream",
     "text": [
      "/var/folders/dm/bzfhlzk90374nx5vf5sn63lh0000gn/T/ipykernel_13208/4169682060.py:7: FutureWarning: The frame.append method is deprecated and will be removed from pandas in a future version. Use pandas.concat instead.\n",
      "  post_df_full = post_df_full.append(fb_post_df)\n"
     ]
    },
    {
     "name": "stdout",
     "output_type": "stream",
     "text": [
      "6356305977736224 get\n"
     ]
    },
    {
     "name": "stderr",
     "output_type": "stream",
     "text": [
      "/var/folders/dm/bzfhlzk90374nx5vf5sn63lh0000gn/T/ipykernel_13208/4169682060.py:7: FutureWarning: The frame.append method is deprecated and will be removed from pandas in a future version. Use pandas.concat instead.\n",
      "  post_df_full = post_df_full.append(fb_post_df)\n"
     ]
    },
    {
     "name": "stdout",
     "output_type": "stream",
     "text": [
      "1201747553878675 get\n"
     ]
    },
    {
     "name": "stderr",
     "output_type": "stream",
     "text": [
      "/var/folders/dm/bzfhlzk90374nx5vf5sn63lh0000gn/T/ipykernel_13208/4169682060.py:7: FutureWarning: The frame.append method is deprecated and will be removed from pandas in a future version. Use pandas.concat instead.\n",
      "  post_df_full = post_df_full.append(fb_post_df)\n"
     ]
    },
    {
     "name": "stdout",
     "output_type": "stream",
     "text": [
      "6356876934345795 get\n"
     ]
    },
    {
     "name": "stderr",
     "output_type": "stream",
     "text": [
      "/var/folders/dm/bzfhlzk90374nx5vf5sn63lh0000gn/T/ipykernel_13208/4169682060.py:7: FutureWarning: The frame.append method is deprecated and will be removed from pandas in a future version. Use pandas.concat instead.\n",
      "  post_df_full = post_df_full.append(fb_post_df)\n"
     ]
    },
    {
     "name": "stdout",
     "output_type": "stream",
     "text": [
      "6355046504528838 get\n"
     ]
    },
    {
     "name": "stderr",
     "output_type": "stream",
     "text": [
      "/var/folders/dm/bzfhlzk90374nx5vf5sn63lh0000gn/T/ipykernel_13208/4169682060.py:7: FutureWarning: The frame.append method is deprecated and will be removed from pandas in a future version. Use pandas.concat instead.\n",
      "  post_df_full = post_df_full.append(fb_post_df)\n"
     ]
    },
    {
     "name": "stdout",
     "output_type": "stream",
     "text": [
      "6308094825890673 get\n"
     ]
    },
    {
     "name": "stderr",
     "output_type": "stream",
     "text": [
      "/opt/homebrew/Caskroom/miniconda/base/envs/dataScience/lib/python3.10/site-packages/dateparser/freshness_date_parser.py:76: PytzUsageWarning: The localize method is no longer necessary, as this time zone supports the fold attribute (PEP 495). For more details on migrating to a PEP 495-compliant implementation, see https://pytz-deprecation-shim.readthedocs.io/en/latest/migration.html\n",
      "  now = self.get_local_tz().localize(now)\n",
      "/var/folders/dm/bzfhlzk90374nx5vf5sn63lh0000gn/T/ipykernel_13208/4169682060.py:7: FutureWarning: The frame.append method is deprecated and will be removed from pandas in a future version. Use pandas.concat instead.\n",
      "  post_df_full = post_df_full.append(fb_post_df)\n"
     ]
    },
    {
     "name": "stdout",
     "output_type": "stream",
     "text": [
      "6352385284794960 get\n"
     ]
    },
    {
     "name": "stderr",
     "output_type": "stream",
     "text": [
      "/opt/homebrew/Caskroom/miniconda/base/envs/dataScience/lib/python3.10/site-packages/dateparser/freshness_date_parser.py:76: PytzUsageWarning: The localize method is no longer necessary, as this time zone supports the fold attribute (PEP 495). For more details on migrating to a PEP 495-compliant implementation, see https://pytz-deprecation-shim.readthedocs.io/en/latest/migration.html\n",
      "  now = self.get_local_tz().localize(now)\n",
      "/var/folders/dm/bzfhlzk90374nx5vf5sn63lh0000gn/T/ipykernel_13208/4169682060.py:7: FutureWarning: The frame.append method is deprecated and will be removed from pandas in a future version. Use pandas.concat instead.\n",
      "  post_df_full = post_df_full.append(fb_post_df)\n"
     ]
    },
    {
     "name": "stdout",
     "output_type": "stream",
     "text": [
      "6352274374806051 get\n"
     ]
    },
    {
     "name": "stderr",
     "output_type": "stream",
     "text": [
      "/var/folders/dm/bzfhlzk90374nx5vf5sn63lh0000gn/T/ipykernel_13208/4169682060.py:7: FutureWarning: The frame.append method is deprecated and will be removed from pandas in a future version. Use pandas.concat instead.\n",
      "  post_df_full = post_df_full.append(fb_post_df)\n"
     ]
    },
    {
     "name": "stdout",
     "output_type": "stream",
     "text": [
      "6351238768242945 get\n"
     ]
    },
    {
     "name": "stderr",
     "output_type": "stream",
     "text": [
      "/var/folders/dm/bzfhlzk90374nx5vf5sn63lh0000gn/T/ipykernel_13208/4169682060.py:7: FutureWarning: The frame.append method is deprecated and will be removed from pandas in a future version. Use pandas.concat instead.\n",
      "  post_df_full = post_df_full.append(fb_post_df)\n"
     ]
    },
    {
     "name": "stdout",
     "output_type": "stream",
     "text": [
      "6349175865115902 get\n"
     ]
    },
    {
     "name": "stderr",
     "output_type": "stream",
     "text": [
      "/var/folders/dm/bzfhlzk90374nx5vf5sn63lh0000gn/T/ipykernel_13208/4169682060.py:7: FutureWarning: The frame.append method is deprecated and will be removed from pandas in a future version. Use pandas.concat instead.\n",
      "  post_df_full = post_df_full.append(fb_post_df)\n"
     ]
    },
    {
     "name": "stdout",
     "output_type": "stream",
     "text": [
      "6349310581769097 get\n"
     ]
    },
    {
     "name": "stderr",
     "output_type": "stream",
     "text": [
      "/opt/homebrew/Caskroom/miniconda/base/envs/dataScience/lib/python3.10/site-packages/dateparser/freshness_date_parser.py:76: PytzUsageWarning: The localize method is no longer necessary, as this time zone supports the fold attribute (PEP 495). For more details on migrating to a PEP 495-compliant implementation, see https://pytz-deprecation-shim.readthedocs.io/en/latest/migration.html\n",
      "  now = self.get_local_tz().localize(now)\n",
      "/var/folders/dm/bzfhlzk90374nx5vf5sn63lh0000gn/T/ipykernel_13208/4169682060.py:7: FutureWarning: The frame.append method is deprecated and will be removed from pandas in a future version. Use pandas.concat instead.\n",
      "  post_df_full = post_df_full.append(fb_post_df)\n"
     ]
    },
    {
     "name": "stdout",
     "output_type": "stream",
     "text": [
      "6327607603939395 get\n"
     ]
    },
    {
     "name": "stderr",
     "output_type": "stream",
     "text": [
      "/opt/homebrew/Caskroom/miniconda/base/envs/dataScience/lib/python3.10/site-packages/dateparser/freshness_date_parser.py:76: PytzUsageWarning: The localize method is no longer necessary, as this time zone supports the fold attribute (PEP 495). For more details on migrating to a PEP 495-compliant implementation, see https://pytz-deprecation-shim.readthedocs.io/en/latest/migration.html\n",
      "  now = self.get_local_tz().localize(now)\n",
      "/var/folders/dm/bzfhlzk90374nx5vf5sn63lh0000gn/T/ipykernel_13208/4169682060.py:7: FutureWarning: The frame.append method is deprecated and will be removed from pandas in a future version. Use pandas.concat instead.\n",
      "  post_df_full = post_df_full.append(fb_post_df)\n"
     ]
    },
    {
     "name": "stdout",
     "output_type": "stream",
     "text": [
      "6324187804281375 get\n"
     ]
    },
    {
     "name": "stderr",
     "output_type": "stream",
     "text": [
      "/opt/homebrew/Caskroom/miniconda/base/envs/dataScience/lib/python3.10/site-packages/dateparser/freshness_date_parser.py:76: PytzUsageWarning: The localize method is no longer necessary, as this time zone supports the fold attribute (PEP 495). For more details on migrating to a PEP 495-compliant implementation, see https://pytz-deprecation-shim.readthedocs.io/en/latest/migration.html\n",
      "  now = self.get_local_tz().localize(now)\n",
      "/var/folders/dm/bzfhlzk90374nx5vf5sn63lh0000gn/T/ipykernel_13208/4169682060.py:7: FutureWarning: The frame.append method is deprecated and will be removed from pandas in a future version. Use pandas.concat instead.\n",
      "  post_df_full = post_df_full.append(fb_post_df)\n"
     ]
    },
    {
     "name": "stdout",
     "output_type": "stream",
     "text": [
      "6342570205776468 get\n"
     ]
    },
    {
     "name": "stderr",
     "output_type": "stream",
     "text": [
      "/var/folders/dm/bzfhlzk90374nx5vf5sn63lh0000gn/T/ipykernel_13208/4169682060.py:7: FutureWarning: The frame.append method is deprecated and will be removed from pandas in a future version. Use pandas.concat instead.\n",
      "  post_df_full = post_df_full.append(fb_post_df)\n"
     ]
    },
    {
     "name": "stdout",
     "output_type": "stream",
     "text": [
      "6372549276111894 get\n",
      "6342146989152123 get\n"
     ]
    },
    {
     "name": "stderr",
     "output_type": "stream",
     "text": [
      "/var/folders/dm/bzfhlzk90374nx5vf5sn63lh0000gn/T/ipykernel_13208/4169682060.py:7: FutureWarning: The frame.append method is deprecated and will be removed from pandas in a future version. Use pandas.concat instead.\n",
      "  post_df_full = post_df_full.append(fb_post_df)\n"
     ]
    }
   ],
   "source": [
    "# Comience a recopilar datos de publicaciones de Facebook mediante la biblioteca facebook_scraper\n",
    "\n",
    "for post in get_posts('BACCredomaticCR', Cookies='cookies1.txt', extra_info=True, pages=10, options={\"comments\": True}):\n",
    "    post_entry = post\n",
    "    fb_post_df = pd.DataFrame.from_dict(post_entry, orient='index')\n",
    "    fb_post_df = fb_post_df.transpose()\n",
    "    post_df_full = post_df_full.append(fb_post_df)\n",
    "    print(post['post_id']+' get')"
   ]
  },
  {
   "cell_type": "code",
   "execution_count": 7,
   "metadata": {
    "gather": {
     "logged": 1664507213842
    },
    "jupyter": {
     "outputs_hidden": false,
     "source_hidden": false
    },
    "nteract": {
     "transient": {
      "deleting": false
     }
    }
   },
   "outputs": [
    {
     "name": "stdout",
     "output_type": "stream",
     "text": [
      "<class 'pandas.core.frame.DataFrame'>\n",
      "Int64Index: 36 entries, 0 to 0\n",
      "Data columns (total 50 columns):\n",
      " #   Column                         Non-Null Count  Dtype         \n",
      "---  ------                         --------------  -----         \n",
      " 0   post_id                        36 non-null     object        \n",
      " 1   text                           36 non-null     object        \n",
      " 2   post_text                      36 non-null     object        \n",
      " 3   shared_text                    36 non-null     object        \n",
      " 4   original_text                  0 non-null      object        \n",
      " 5   time                           36 non-null     datetime64[ns]\n",
      " 6   timestamp                      36 non-null     object        \n",
      " 7   image                          30 non-null     object        \n",
      " 8   image_lowquality               36 non-null     object        \n",
      " 9   images                         36 non-null     object        \n",
      " 10  images_description             36 non-null     object        \n",
      " 11  images_lowquality              36 non-null     object        \n",
      " 12  images_lowquality_description  36 non-null     object        \n",
      " 13  video                          5 non-null      object        \n",
      " 14  video_duration_seconds         0 non-null      object        \n",
      " 15  video_height                   0 non-null      object        \n",
      " 16  video_id                       5 non-null      object        \n",
      " 17  video_quality                  0 non-null      object        \n",
      " 18  video_size_MB                  0 non-null      object        \n",
      " 19  video_thumbnail                5 non-null      object        \n",
      " 20  video_watches                  0 non-null      object        \n",
      " 21  video_width                    0 non-null      object        \n",
      " 22  likes                          36 non-null     object        \n",
      " 23  comments                       36 non-null     object        \n",
      " 24  shares                         36 non-null     object        \n",
      " 25  post_url                       36 non-null     object        \n",
      " 26  link                           20 non-null     object        \n",
      " 27  links                          36 non-null     object        \n",
      " 28  user_id                        36 non-null     object        \n",
      " 29  username                       36 non-null     object        \n",
      " 30  user_url                       36 non-null     object        \n",
      " 31  is_live                        36 non-null     object        \n",
      " 32  factcheck                      0 non-null      object        \n",
      " 33  shared_post_id                 0 non-null      object        \n",
      " 34  shared_time                    0 non-null      object        \n",
      " 35  shared_user_id                 0 non-null      object        \n",
      " 36  shared_username                0 non-null      object        \n",
      " 37  shared_post_url                0 non-null      object        \n",
      " 38  available                      36 non-null     object        \n",
      " 39  comments_full                  36 non-null     object        \n",
      " 40  reactors                       0 non-null      object        \n",
      " 41  w3_fb_url                      0 non-null      object        \n",
      " 42  reactions                      0 non-null      object        \n",
      " 43  reaction_count                 36 non-null     object        \n",
      " 44  with                           0 non-null      object        \n",
      " 45  page_id                        36 non-null     object        \n",
      " 46  sharers                        0 non-null      object        \n",
      " 47  image_id                       24 non-null     object        \n",
      " 48  image_ids                      36 non-null     object        \n",
      " 49  was_live                       36 non-null     object        \n",
      "dtypes: datetime64[ns](1), object(49)\n",
      "memory usage: 14.3+ KB\n"
     ]
    }
   ],
   "source": [
    "# Verifique la información del marco de datos, se están raspando 47 columnas de datos de la publicación de Facebook\n",
    "post_df_full.info()"
   ]
  },
  {
   "cell_type": "code",
   "execution_count": 8,
   "metadata": {
    "gather": {
     "logged": 1664507218503
    },
    "jupyter": {
     "outputs_hidden": false,
     "source_hidden": false
    },
    "nteract": {
     "transient": {
      "deleting": false
     }
    }
   },
   "outputs": [],
   "source": [
    "post_df_full.to_csv(r'bac_facebook_post.csv', sep=';', encoding='utf-8', header='true')"
   ]
  },
  {
   "cell_type": "code",
   "execution_count": 9,
   "metadata": {
    "gather": {
     "logged": 1664503847941
    },
    "jupyter": {
     "outputs_hidden": false,
     "source_hidden": false
    },
    "nteract": {
     "transient": {
      "deleting": false
     }
    }
   },
   "outputs": [],
   "source": [
    "post_df_full_clean = post_df_full"
   ]
  },
  {
   "cell_type": "code",
   "execution_count": 10,
   "metadata": {
    "gather": {
     "logged": 1664503870185
    },
    "jupyter": {
     "outputs_hidden": false,
     "source_hidden": false
    },
    "nteract": {
     "transient": {
      "deleting": false
     }
    }
   },
   "outputs": [
    {
     "data": {
      "text/html": [
       "<div>\n",
       "<style scoped>\n",
       "    .dataframe tbody tr th:only-of-type {\n",
       "        vertical-align: middle;\n",
       "    }\n",
       "\n",
       "    .dataframe tbody tr th {\n",
       "        vertical-align: top;\n",
       "    }\n",
       "\n",
       "    .dataframe thead th {\n",
       "        text-align: right;\n",
       "    }\n",
       "</style>\n",
       "<table border=\"1\" class=\"dataframe\">\n",
       "  <thead>\n",
       "    <tr style=\"text-align: right;\">\n",
       "      <th></th>\n",
       "      <th>post_id</th>\n",
       "      <th>text</th>\n",
       "      <th>post_text</th>\n",
       "      <th>shared_text</th>\n",
       "      <th>original_text</th>\n",
       "      <th>time</th>\n",
       "      <th>timestamp</th>\n",
       "      <th>image</th>\n",
       "      <th>image_lowquality</th>\n",
       "      <th>images</th>\n",
       "      <th>...</th>\n",
       "      <th>reactors</th>\n",
       "      <th>w3_fb_url</th>\n",
       "      <th>reactions</th>\n",
       "      <th>reaction_count</th>\n",
       "      <th>with</th>\n",
       "      <th>page_id</th>\n",
       "      <th>sharers</th>\n",
       "      <th>image_id</th>\n",
       "      <th>image_ids</th>\n",
       "      <th>was_live</th>\n",
       "    </tr>\n",
       "  </thead>\n",
       "  <tbody>\n",
       "    <tr>\n",
       "      <th>0</th>\n",
       "      <td>6372559649444190</td>\n",
       "      <td>¿Qué es lo que siempre vas a recordar de las e...</td>\n",
       "      <td>¿Qué es lo que siempre vas a recordar de las e...</td>\n",
       "      <td></td>\n",
       "      <td>None</td>\n",
       "      <td>2023-03-13 14:07:29</td>\n",
       "      <td>1678738049</td>\n",
       "      <td>https://scontent.fsjo14-1.fna.fbcdn.net/v/t39....</td>\n",
       "      <td>https://scontent.fsjo14-1.fna.fbcdn.net/v/t39....</td>\n",
       "      <td>[https://scontent.fsjo14-1.fna.fbcdn.net/v/t39...</td>\n",
       "      <td>...</td>\n",
       "      <td>None</td>\n",
       "      <td>None</td>\n",
       "      <td>None</td>\n",
       "      <td>1</td>\n",
       "      <td>None</td>\n",
       "      <td>204957802871103</td>\n",
       "      <td>None</td>\n",
       "      <td>6372558372777651</td>\n",
       "      <td>[6372558372777651]</td>\n",
       "      <td>False</td>\n",
       "    </tr>\n",
       "    <tr>\n",
       "      <th>0</th>\n",
       "      <td>6372253112808177</td>\n",
       "      <td>Nos transformamos para seguir compartiéndote h...</td>\n",
       "      <td>Nos transformamos para seguir compartiéndote h...</td>\n",
       "      <td></td>\n",
       "      <td>None</td>\n",
       "      <td>2023-03-13 12:12:50</td>\n",
       "      <td>1678731170</td>\n",
       "      <td>https://scontent.fsjo14-1.fna.fbcdn.net/v/t39....</td>\n",
       "      <td>https://scontent.fsjo14-1.fna.fbcdn.net/v/t39....</td>\n",
       "      <td>[https://scontent.fsjo14-1.fna.fbcdn.net/v/t39...</td>\n",
       "      <td>...</td>\n",
       "      <td>None</td>\n",
       "      <td>None</td>\n",
       "      <td>None</td>\n",
       "      <td>28</td>\n",
       "      <td>None</td>\n",
       "      <td>204957802871103</td>\n",
       "      <td>None</td>\n",
       "      <td>6372252546141567</td>\n",
       "      <td>[6372252546141567]</td>\n",
       "      <td>False</td>\n",
       "    </tr>\n",
       "    <tr>\n",
       "      <th>0</th>\n",
       "      <td>6307937159239773</td>\n",
       "      <td>¡Viví con pasión momentos únicos! Pasá un día ...</td>\n",
       "      <td>¡Viví con pasión momentos únicos! Pasá un día ...</td>\n",
       "      <td></td>\n",
       "      <td>None</td>\n",
       "      <td>2023-03-13 10:00:07</td>\n",
       "      <td>1678723207</td>\n",
       "      <td>https://scontent.fsjo14-1.fna.fbcdn.net/v/t39....</td>\n",
       "      <td>https://scontent.fsjo14-1.fna.fbcdn.net/v/t39....</td>\n",
       "      <td>[https://scontent.fsjo14-1.fna.fbcdn.net/v/t39...</td>\n",
       "      <td>...</td>\n",
       "      <td>None</td>\n",
       "      <td>None</td>\n",
       "      <td>None</td>\n",
       "      <td>3</td>\n",
       "      <td>None</td>\n",
       "      <td>204957802871103</td>\n",
       "      <td>None</td>\n",
       "      <td>6307925489240940</td>\n",
       "      <td>[6307925489240940]</td>\n",
       "      <td>False</td>\n",
       "    </tr>\n",
       "    <tr>\n",
       "      <th>0</th>\n",
       "      <td>6372510159449139</td>\n",
       "      <td>¡Dancing queen! Siente el ritmo con ABBA en vi...</td>\n",
       "      <td>¡Dancing queen! Siente el ritmo con ABBA en vi...</td>\n",
       "      <td></td>\n",
       "      <td>None</td>\n",
       "      <td>2023-03-13 10:00:00</td>\n",
       "      <td>1678723200</td>\n",
       "      <td>https://scontent.fsjo14-1.fna.fbcdn.net/v/t39....</td>\n",
       "      <td>https://scontent.fsjo14-1.fna.fbcdn.net/v/t39....</td>\n",
       "      <td>[https://scontent.fsjo14-1.fna.fbcdn.net/v/t39...</td>\n",
       "      <td>...</td>\n",
       "      <td>None</td>\n",
       "      <td>None</td>\n",
       "      <td>None</td>\n",
       "      <td>5</td>\n",
       "      <td>None</td>\n",
       "      <td>204957802871103</td>\n",
       "      <td>None</td>\n",
       "      <td>6372506232782865</td>\n",
       "      <td>[6372506232782865]</td>\n",
       "      <td>False</td>\n",
       "    </tr>\n",
       "    <tr>\n",
       "      <th>0</th>\n",
       "      <td>6324244904275665</td>\n",
       "      <td>Cumplir metas es emocionante, pero saber que s...</td>\n",
       "      <td>Cumplir metas es emocionante, pero saber que s...</td>\n",
       "      <td></td>\n",
       "      <td>None</td>\n",
       "      <td>2023-03-12 15:00:01</td>\n",
       "      <td>1678654801</td>\n",
       "      <td>https://scontent.fsjo14-1.fna.fbcdn.net/v/t39....</td>\n",
       "      <td>https://scontent.fsjo14-1.fna.fbcdn.net/v/t39....</td>\n",
       "      <td>[https://scontent.fsjo14-1.fna.fbcdn.net/v/t39...</td>\n",
       "      <td>...</td>\n",
       "      <td>None</td>\n",
       "      <td>None</td>\n",
       "      <td>None</td>\n",
       "      <td>3</td>\n",
       "      <td>None</td>\n",
       "      <td>204957802871103</td>\n",
       "      <td>None</td>\n",
       "      <td>None</td>\n",
       "      <td>[]</td>\n",
       "      <td>False</td>\n",
       "    </tr>\n",
       "  </tbody>\n",
       "</table>\n",
       "<p>5 rows × 50 columns</p>\n",
       "</div>"
      ],
      "text/plain": [
       "            post_id                                               text  \\\n",
       "0  6372559649444190  ¿Qué es lo que siempre vas a recordar de las e...   \n",
       "0  6372253112808177  Nos transformamos para seguir compartiéndote h...   \n",
       "0  6307937159239773  ¡Viví con pasión momentos únicos! Pasá un día ...   \n",
       "0  6372510159449139  ¡Dancing queen! Siente el ritmo con ABBA en vi...   \n",
       "0  6324244904275665  Cumplir metas es emocionante, pero saber que s...   \n",
       "\n",
       "                                           post_text shared_text  \\\n",
       "0  ¿Qué es lo que siempre vas a recordar de las e...               \n",
       "0  Nos transformamos para seguir compartiéndote h...               \n",
       "0  ¡Viví con pasión momentos únicos! Pasá un día ...               \n",
       "0  ¡Dancing queen! Siente el ritmo con ABBA en vi...               \n",
       "0  Cumplir metas es emocionante, pero saber que s...               \n",
       "\n",
       "  original_text                time   timestamp  \\\n",
       "0          None 2023-03-13 14:07:29  1678738049   \n",
       "0          None 2023-03-13 12:12:50  1678731170   \n",
       "0          None 2023-03-13 10:00:07  1678723207   \n",
       "0          None 2023-03-13 10:00:00  1678723200   \n",
       "0          None 2023-03-12 15:00:01  1678654801   \n",
       "\n",
       "                                               image  \\\n",
       "0  https://scontent.fsjo14-1.fna.fbcdn.net/v/t39....   \n",
       "0  https://scontent.fsjo14-1.fna.fbcdn.net/v/t39....   \n",
       "0  https://scontent.fsjo14-1.fna.fbcdn.net/v/t39....   \n",
       "0  https://scontent.fsjo14-1.fna.fbcdn.net/v/t39....   \n",
       "0  https://scontent.fsjo14-1.fna.fbcdn.net/v/t39....   \n",
       "\n",
       "                                    image_lowquality  \\\n",
       "0  https://scontent.fsjo14-1.fna.fbcdn.net/v/t39....   \n",
       "0  https://scontent.fsjo14-1.fna.fbcdn.net/v/t39....   \n",
       "0  https://scontent.fsjo14-1.fna.fbcdn.net/v/t39....   \n",
       "0  https://scontent.fsjo14-1.fna.fbcdn.net/v/t39....   \n",
       "0  https://scontent.fsjo14-1.fna.fbcdn.net/v/t39....   \n",
       "\n",
       "                                              images  ... reactors w3_fb_url  \\\n",
       "0  [https://scontent.fsjo14-1.fna.fbcdn.net/v/t39...  ...     None      None   \n",
       "0  [https://scontent.fsjo14-1.fna.fbcdn.net/v/t39...  ...     None      None   \n",
       "0  [https://scontent.fsjo14-1.fna.fbcdn.net/v/t39...  ...     None      None   \n",
       "0  [https://scontent.fsjo14-1.fna.fbcdn.net/v/t39...  ...     None      None   \n",
       "0  [https://scontent.fsjo14-1.fna.fbcdn.net/v/t39...  ...     None      None   \n",
       "\n",
       "  reactions reaction_count  with          page_id sharers          image_id  \\\n",
       "0      None              1  None  204957802871103    None  6372558372777651   \n",
       "0      None             28  None  204957802871103    None  6372252546141567   \n",
       "0      None              3  None  204957802871103    None  6307925489240940   \n",
       "0      None              5  None  204957802871103    None  6372506232782865   \n",
       "0      None              3  None  204957802871103    None              None   \n",
       "\n",
       "            image_ids was_live  \n",
       "0  [6372558372777651]    False  \n",
       "0  [6372252546141567]    False  \n",
       "0  [6307925489240940]    False  \n",
       "0  [6372506232782865]    False  \n",
       "0                  []    False  \n",
       "\n",
       "[5 rows x 50 columns]"
      ]
     },
     "execution_count": 10,
     "metadata": {},
     "output_type": "execute_result"
    }
   ],
   "source": [
    "post_df_full_clean.head()"
   ]
  },
  {
   "cell_type": "code",
   "execution_count": 11,
   "metadata": {
    "gather": {
     "logged": 1664507227871
    },
    "jupyter": {
     "outputs_hidden": false,
     "source_hidden": false
    },
    "nteract": {
     "transient": {
      "deleting": false
     }
    }
   },
   "outputs": [
    {
     "data": {
      "text/html": [
       "<div>\n",
       "<style scoped>\n",
       "    .dataframe tbody tr th:only-of-type {\n",
       "        vertical-align: middle;\n",
       "    }\n",
       "\n",
       "    .dataframe tbody tr th {\n",
       "        vertical-align: top;\n",
       "    }\n",
       "\n",
       "    .dataframe thead th {\n",
       "        text-align: right;\n",
       "    }\n",
       "</style>\n",
       "<table border=\"1\" class=\"dataframe\">\n",
       "  <thead>\n",
       "    <tr style=\"text-align: right;\">\n",
       "      <th></th>\n",
       "      <th>post_id</th>\n",
       "      <th>text</th>\n",
       "      <th>post_text</th>\n",
       "      <th>shared_text</th>\n",
       "      <th>original_text</th>\n",
       "      <th>time</th>\n",
       "      <th>timestamp</th>\n",
       "      <th>image</th>\n",
       "      <th>image_lowquality</th>\n",
       "      <th>images</th>\n",
       "      <th>...</th>\n",
       "      <th>reactors</th>\n",
       "      <th>w3_fb_url</th>\n",
       "      <th>reactions</th>\n",
       "      <th>reaction_count</th>\n",
       "      <th>with</th>\n",
       "      <th>page_id</th>\n",
       "      <th>sharers</th>\n",
       "      <th>image_id</th>\n",
       "      <th>image_ids</th>\n",
       "      <th>was_live</th>\n",
       "    </tr>\n",
       "  </thead>\n",
       "  <tbody>\n",
       "    <tr>\n",
       "      <th>0</th>\n",
       "      <td>6372559649444190</td>\n",
       "      <td>¿Qué es lo que siempre vas a recordar de las e...</td>\n",
       "      <td>¿Qué es lo que siempre vas a recordar de las e...</td>\n",
       "      <td></td>\n",
       "      <td>None</td>\n",
       "      <td>2023-03-13 14:07:29</td>\n",
       "      <td>1678738049</td>\n",
       "      <td>https://scontent.fsjo14-1.fna.fbcdn.net/v/t39....</td>\n",
       "      <td>https://scontent.fsjo14-1.fna.fbcdn.net/v/t39....</td>\n",
       "      <td>[https://scontent.fsjo14-1.fna.fbcdn.net/v/t39...</td>\n",
       "      <td>...</td>\n",
       "      <td>None</td>\n",
       "      <td>None</td>\n",
       "      <td>None</td>\n",
       "      <td>1</td>\n",
       "      <td>None</td>\n",
       "      <td>204957802871103</td>\n",
       "      <td>None</td>\n",
       "      <td>6372558372777651</td>\n",
       "      <td>[6372558372777651]</td>\n",
       "      <td>False</td>\n",
       "    </tr>\n",
       "    <tr>\n",
       "      <th>0</th>\n",
       "      <td>6372253112808177</td>\n",
       "      <td>Nos transformamos para seguir compartiéndote h...</td>\n",
       "      <td>Nos transformamos para seguir compartiéndote h...</td>\n",
       "      <td></td>\n",
       "      <td>None</td>\n",
       "      <td>2023-03-13 12:12:50</td>\n",
       "      <td>1678731170</td>\n",
       "      <td>https://scontent.fsjo14-1.fna.fbcdn.net/v/t39....</td>\n",
       "      <td>https://scontent.fsjo14-1.fna.fbcdn.net/v/t39....</td>\n",
       "      <td>[https://scontent.fsjo14-1.fna.fbcdn.net/v/t39...</td>\n",
       "      <td>...</td>\n",
       "      <td>None</td>\n",
       "      <td>None</td>\n",
       "      <td>None</td>\n",
       "      <td>28</td>\n",
       "      <td>None</td>\n",
       "      <td>204957802871103</td>\n",
       "      <td>None</td>\n",
       "      <td>6372252546141567</td>\n",
       "      <td>[6372252546141567]</td>\n",
       "      <td>False</td>\n",
       "    </tr>\n",
       "    <tr>\n",
       "      <th>0</th>\n",
       "      <td>6307937159239773</td>\n",
       "      <td>¡Viví con pasión momentos únicos! Pasá un día ...</td>\n",
       "      <td>¡Viví con pasión momentos únicos! Pasá un día ...</td>\n",
       "      <td></td>\n",
       "      <td>None</td>\n",
       "      <td>2023-03-13 10:00:07</td>\n",
       "      <td>1678723207</td>\n",
       "      <td>https://scontent.fsjo14-1.fna.fbcdn.net/v/t39....</td>\n",
       "      <td>https://scontent.fsjo14-1.fna.fbcdn.net/v/t39....</td>\n",
       "      <td>[https://scontent.fsjo14-1.fna.fbcdn.net/v/t39...</td>\n",
       "      <td>...</td>\n",
       "      <td>None</td>\n",
       "      <td>None</td>\n",
       "      <td>None</td>\n",
       "      <td>3</td>\n",
       "      <td>None</td>\n",
       "      <td>204957802871103</td>\n",
       "      <td>None</td>\n",
       "      <td>6307925489240940</td>\n",
       "      <td>[6307925489240940]</td>\n",
       "      <td>False</td>\n",
       "    </tr>\n",
       "    <tr>\n",
       "      <th>0</th>\n",
       "      <td>6372510159449139</td>\n",
       "      <td>¡Dancing queen! Siente el ritmo con ABBA en vi...</td>\n",
       "      <td>¡Dancing queen! Siente el ritmo con ABBA en vi...</td>\n",
       "      <td></td>\n",
       "      <td>None</td>\n",
       "      <td>2023-03-13 10:00:00</td>\n",
       "      <td>1678723200</td>\n",
       "      <td>https://scontent.fsjo14-1.fna.fbcdn.net/v/t39....</td>\n",
       "      <td>https://scontent.fsjo14-1.fna.fbcdn.net/v/t39....</td>\n",
       "      <td>[https://scontent.fsjo14-1.fna.fbcdn.net/v/t39...</td>\n",
       "      <td>...</td>\n",
       "      <td>None</td>\n",
       "      <td>None</td>\n",
       "      <td>None</td>\n",
       "      <td>5</td>\n",
       "      <td>None</td>\n",
       "      <td>204957802871103</td>\n",
       "      <td>None</td>\n",
       "      <td>6372506232782865</td>\n",
       "      <td>[6372506232782865]</td>\n",
       "      <td>False</td>\n",
       "    </tr>\n",
       "    <tr>\n",
       "      <th>0</th>\n",
       "      <td>6324244904275665</td>\n",
       "      <td>Cumplir metas es emocionante, pero saber que s...</td>\n",
       "      <td>Cumplir metas es emocionante, pero saber que s...</td>\n",
       "      <td></td>\n",
       "      <td>None</td>\n",
       "      <td>2023-03-12 15:00:01</td>\n",
       "      <td>1678654801</td>\n",
       "      <td>https://scontent.fsjo14-1.fna.fbcdn.net/v/t39....</td>\n",
       "      <td>https://scontent.fsjo14-1.fna.fbcdn.net/v/t39....</td>\n",
       "      <td>[https://scontent.fsjo14-1.fna.fbcdn.net/v/t39...</td>\n",
       "      <td>...</td>\n",
       "      <td>None</td>\n",
       "      <td>None</td>\n",
       "      <td>None</td>\n",
       "      <td>3</td>\n",
       "      <td>None</td>\n",
       "      <td>204957802871103</td>\n",
       "      <td>None</td>\n",
       "      <td>None</td>\n",
       "      <td>[]</td>\n",
       "      <td>False</td>\n",
       "    </tr>\n",
       "  </tbody>\n",
       "</table>\n",
       "<p>5 rows × 50 columns</p>\n",
       "</div>"
      ],
      "text/plain": [
       "            post_id                                               text  \\\n",
       "0  6372559649444190  ¿Qué es lo que siempre vas a recordar de las e...   \n",
       "0  6372253112808177  Nos transformamos para seguir compartiéndote h...   \n",
       "0  6307937159239773  ¡Viví con pasión momentos únicos! Pasá un día ...   \n",
       "0  6372510159449139  ¡Dancing queen! Siente el ritmo con ABBA en vi...   \n",
       "0  6324244904275665  Cumplir metas es emocionante, pero saber que s...   \n",
       "\n",
       "                                           post_text shared_text  \\\n",
       "0  ¿Qué es lo que siempre vas a recordar de las e...               \n",
       "0  Nos transformamos para seguir compartiéndote h...               \n",
       "0  ¡Viví con pasión momentos únicos! Pasá un día ...               \n",
       "0  ¡Dancing queen! Siente el ritmo con ABBA en vi...               \n",
       "0  Cumplir metas es emocionante, pero saber que s...               \n",
       "\n",
       "  original_text                time   timestamp  \\\n",
       "0          None 2023-03-13 14:07:29  1678738049   \n",
       "0          None 2023-03-13 12:12:50  1678731170   \n",
       "0          None 2023-03-13 10:00:07  1678723207   \n",
       "0          None 2023-03-13 10:00:00  1678723200   \n",
       "0          None 2023-03-12 15:00:01  1678654801   \n",
       "\n",
       "                                               image  \\\n",
       "0  https://scontent.fsjo14-1.fna.fbcdn.net/v/t39....   \n",
       "0  https://scontent.fsjo14-1.fna.fbcdn.net/v/t39....   \n",
       "0  https://scontent.fsjo14-1.fna.fbcdn.net/v/t39....   \n",
       "0  https://scontent.fsjo14-1.fna.fbcdn.net/v/t39....   \n",
       "0  https://scontent.fsjo14-1.fna.fbcdn.net/v/t39....   \n",
       "\n",
       "                                    image_lowquality  \\\n",
       "0  https://scontent.fsjo14-1.fna.fbcdn.net/v/t39....   \n",
       "0  https://scontent.fsjo14-1.fna.fbcdn.net/v/t39....   \n",
       "0  https://scontent.fsjo14-1.fna.fbcdn.net/v/t39....   \n",
       "0  https://scontent.fsjo14-1.fna.fbcdn.net/v/t39....   \n",
       "0  https://scontent.fsjo14-1.fna.fbcdn.net/v/t39....   \n",
       "\n",
       "                                              images  ... reactors w3_fb_url  \\\n",
       "0  [https://scontent.fsjo14-1.fna.fbcdn.net/v/t39...  ...     None      None   \n",
       "0  [https://scontent.fsjo14-1.fna.fbcdn.net/v/t39...  ...     None      None   \n",
       "0  [https://scontent.fsjo14-1.fna.fbcdn.net/v/t39...  ...     None      None   \n",
       "0  [https://scontent.fsjo14-1.fna.fbcdn.net/v/t39...  ...     None      None   \n",
       "0  [https://scontent.fsjo14-1.fna.fbcdn.net/v/t39...  ...     None      None   \n",
       "\n",
       "  reactions reaction_count  with          page_id sharers          image_id  \\\n",
       "0      None              1  None  204957802871103    None  6372558372777651   \n",
       "0      None             28  None  204957802871103    None  6372252546141567   \n",
       "0      None              3  None  204957802871103    None  6307925489240940   \n",
       "0      None              5  None  204957802871103    None  6372506232782865   \n",
       "0      None              3  None  204957802871103    None              None   \n",
       "\n",
       "            image_ids was_live  \n",
       "0  [6372558372777651]    False  \n",
       "0  [6372252546141567]    False  \n",
       "0  [6307925489240940]    False  \n",
       "0  [6372506232782865]    False  \n",
       "0                  []    False  \n",
       "\n",
       "[5 rows x 50 columns]"
      ]
     },
     "execution_count": 11,
     "metadata": {},
     "output_type": "execute_result"
    }
   ],
   "source": [
    "# Display header of dataframe\n",
    "post_df_full.head()"
   ]
  },
  {
   "cell_type": "code",
   "execution_count": 12,
   "metadata": {
    "gather": {
     "logged": 1664507234730
    },
    "jupyter": {
     "outputs_hidden": false,
     "source_hidden": false
    },
    "nteract": {
     "transient": {
      "deleting": false
     }
    }
   },
   "outputs": [],
   "source": [
    "# Guarde el marco de datos en el archivo csv\n",
    "post_df_full.to_csv(r'fb_scrapped_data.csv', index = False)"
   ]
  },
  {
   "cell_type": "code",
   "execution_count": 13,
   "metadata": {
    "gather": {
     "logged": 1664507238095
    },
    "jupyter": {
     "outputs_hidden": false,
     "source_hidden": false
    },
    "nteract": {
     "transient": {
      "deleting": false
     }
    }
   },
   "outputs": [
    {
     "data": {
      "image/png": "[encoded data removed]",
      "text/plain": [
       "<Figure size 2000x1000 with 1 Axes>"
      ]
     },
     "metadata": {},
     "output_type": "display_data"
    }
   ],
   "source": [
    "# Realice un gráfico de líneas básico para visualizar la fecha y hora de la publicación frente a los Me gusta\n",
    "fig, ax = plt.subplots(figsize=(20, 10))\n",
    "ax.plot(post_df_full['time'], post_df_full['likes'], marker=\"o\")\n",
    "from matplotlib.dates import DateFormatter\n",
    "ax.xaxis.set_major_formatter(DateFormatter('%d-%m-%y %H:%M'))"
   ]
  },
  {
   "cell_type": "code",
   "execution_count": 14,
   "metadata": {
    "gather": {
     "logged": 1664505969010
    },
    "jupyter": {
     "outputs_hidden": false,
     "source_hidden": false
    },
    "nteract": {
     "transient": {
      "deleting": false
     }
    }
   },
   "outputs": [],
   "source": [
    "plt.show()"
   ]
  }
 ],
 "metadata": {
  "kernel_info": {
   "name": "python38-azureml"
  },
  "kernelspec": {
   "display_name": "dataScience",
   "language": "python",
   "name": "python3"
  },
  "language_info": {
   "codemirror_mode": {
    "name": "ipython",
    "version": 3
   },
   "file_extension": ".py",
   "mimetype": "text/x-python",
   "name": "python",
   "nbconvert_exporter": "python",
   "pygments_lexer": "ipython3",
   "version": "3.10.9"
  },
  "microsoft": {
   "host": {
    "AzureML": {
     "notebookHasBeenCompleted": true
    }
   }
  },
  "nteract": {
   "version": "nteract-front-end@1.0.0"
  },
  "vscode": {
   "interpreter": {
    "hash": "337318dc3a4518dcc206275827aae8c8474b04c4f2ad79c74868430f7954bc32"
   }
  }
 },
 "nbformat": 4,
 "nbformat_minor": 2
}

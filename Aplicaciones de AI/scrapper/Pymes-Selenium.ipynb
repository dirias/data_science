{
 "cells": [
  {
   "cell_type": "code",
   "execution_count": 8,
   "metadata": {},
   "outputs": [],
   "source": [
    "from selenium import webdriver\n",
    "from webdriver_manager.chrome import ChromeDriverManager\n",
    "import time\n",
    "from selenium.webdriver.common.keys import Keys"
   ]
  },
  {
   "cell_type": "code",
   "execution_count": 9,
   "metadata": {},
   "outputs": [
    {
     "name": "stderr",
     "output_type": "stream",
     "text": [
      "/var/folders/dm/bzfhlzk90374nx5vf5sn63lh0000gn/T/ipykernel_13653/1503906442.py:1: DeprecationWarning: executable_path has been deprecated, please pass in a Service object\n",
      "  driver = webdriver.Chrome(ChromeDriverManager().install())\n"
     ]
    }
   ],
   "source": [
    "driver = webdriver.Chrome(ChromeDriverManager().install())"
   ]
  },
  {
   "cell_type": "code",
   "execution_count": 10,
   "metadata": {},
   "outputs": [],
   "source": [
    "#minimizar\n",
    "driver.maximize_window()\n",
    "time.sleep(1)"
   ]
  },
  {
   "cell_type": "code",
   "execution_count": 11,
   "metadata": {},
   "outputs": [],
   "source": [
    "driver.get(\"https://m.facebook.com/\")\n",
    "time.sleep(1)"
   ]
  },
  {
   "cell_type": "code",
   "execution_count": 12,
   "metadata": {},
   "outputs": [],
   "source": [
    "id=\"cmoralesal@baccredomatic.cr\""
   ]
  },
  {
   "cell_type": "code",
   "execution_count": 16,
   "metadata": {},
   "outputs": [
    {
     "name": "stdout",
     "output_type": "stream",
     "text": [
      "Email ingresado...\n"
     ]
    }
   ],
   "source": [
    "from selenium.webdriver.common.by import By\n",
    "driver.find_element(By.ID, 'm_login_email').send_keys(id)\n",
    "print (\"Email ingresado...\")\n",
    "time.sleep(1)"
   ]
  },
  {
   "cell_type": "code",
   "execution_count": null,
   "metadata": {},
   "outputs": [],
   "source": [
    "#sleep(1)"
   ]
  },
  {
   "cell_type": "code",
   "execution_count": 17,
   "metadata": {},
   "outputs": [],
   "source": [
    "contrasena=\"*****\""
   ]
  },
  {
   "cell_type": "code",
   "execution_count": 21,
   "metadata": {},
   "outputs": [
    {
     "name": "stdout",
     "output_type": "stream",
     "text": [
      "Contraseña Ingresada...\n"
     ]
    }
   ],
   "source": [
    "driver.find_element(By.ID, 'm_login_password').send_keys(contrasena)\n",
    "print (\"Contraseña Ingresada...\")\n",
    "time.sleep(1)"
   ]
  },
  {
   "cell_type": "code",
   "execution_count": 22,
   "metadata": {},
   "outputs": [],
   "source": [
    "driver.find_element(By.ID, 'm_login_password').send_keys(Keys.ENTER)\n",
    "time.sleep(5)"
   ]
  },
  {
   "cell_type": "code",
   "execution_count": 23,
   "metadata": {},
   "outputs": [
    {
     "ename": "AttributeError",
     "evalue": "'WebDriver' object has no attribute 'find_element_by_xpath'",
     "output_type": "error",
     "traceback": [
      "\u001b[0;31m---------------------------------------------------------------------------\u001b[0m",
      "\u001b[0;31mAttributeError\u001b[0m                            Traceback (most recent call last)",
      "Cell \u001b[0;32mIn[23], line 2\u001b[0m\n\u001b[1;32m      1\u001b[0m \u001b[39m#continuar \u001b[39;00m\n\u001b[0;32m----> 2\u001b[0m driver\u001b[39m.\u001b[39;49mfind_element_by_xpath(\u001b[39m\"\u001b[39m\u001b[39m//*[@id=\u001b[39m\u001b[39m'\u001b[39m\u001b[39mroot\u001b[39m\u001b[39m'\u001b[39m\u001b[39m]/div[1]/div/div/div[3]/div[2]/form/div/button\u001b[39m\u001b[39m\"\u001b[39m)\u001b[39m.\u001b[39mclick()\n",
      "\u001b[0;31mAttributeError\u001b[0m: 'WebDriver' object has no attribute 'find_element_by_xpath'"
     ]
    }
   ],
   "source": [
    "#continuar \n",
    "driver.find_element_by_xpath(\"//*[@id='root']/div[1]/div/div/div[3]/div[2]/form/div/button\").click()"
   ]
  },
  {
   "cell_type": "code",
   "execution_count": null,
   "metadata": {},
   "outputs": [],
   "source": [
    "pymes = [\"BAC Credomatic\", \"Promerica\", \"Scotiabank\"]\n",
    "time.sleep(3)"
   ]
  },
  {
   "cell_type": "code",
   "execution_count": null,
   "metadata": {},
   "outputs": [
    {
     "name": "stdout",
     "output_type": "stream",
     "text": [
      "https://m.facebook.com/BACCredomatic/\n",
      "https://m.facebook.com/BancoPromericaCostaRica/\n",
      "https://m.facebook.com/ScotiabankCR/\n"
     ]
    }
   ],
   "source": [
    "#obtener las url\n",
    "\n",
    "for pyme in pymes:\n",
    "    driver.get(\"https://m.facebook.com/search/pages/\")\n",
    "    time.sleep(1)\n",
    "    buscar=driver.find_element_by_id('main-search-input') #seleccionar la caja de busqueda\n",
    "    time.sleep(1)\n",
    "    #escribir en la caja de busquedsa\n",
    "    buscar.send_keys(pyme)\n",
    "    time.sleep(1)\n",
    "    buscar.send_keys(Keys.ENTER)\n",
    "    time.sleep(2.4)\n",
    "    seleccionar_paginas = driver.find_element_by_xpath(\"/html/body/div[1]/div/div[4]/div/div/div[1]/div/a[6]\").click()\n",
    "    time.sleep(2.4)\n",
    "    pagina = driver.find_element_by_xpath(\"/html/body/div[1]/div/div[4]/div/div/div[2]/div[1]/div/div/div/div[1]/div/div/div/div/div\")\n",
    "    pagina.click()\n",
    "    time.sleep(5)\n",
    "    print(driver.current_url)\n",
    "#sleep(1)\n",
    "    "
   ]
  },
  {
   "cell_type": "code",
   "execution_count": null,
   "metadata": {},
   "outputs": [],
   "source": []
  },
  {
   "cell_type": "code",
   "execution_count": null,
   "metadata": {},
   "outputs": [],
   "source": []
  },
  {
   "cell_type": "code",
   "execution_count": null,
   "metadata": {},
   "outputs": [],
   "source": []
  },
  {
   "cell_type": "code",
   "execution_count": null,
   "metadata": {},
   "outputs": [],
   "source": []
  },
  {
   "cell_type": "code",
   "execution_count": null,
   "metadata": {},
   "outputs": [],
   "source": []
  }
 ],
 "metadata": {
  "kernelspec": {
   "display_name": "dataScience",
   "language": "python",
   "name": "python3"
  },
  "language_info": {
   "codemirror_mode": {
    "name": "ipython",
    "version": 3
   },
   "file_extension": ".py",
   "mimetype": "text/x-python",
   "name": "python",
   "nbconvert_exporter": "python",
   "pygments_lexer": "ipython3",
   "version": "3.10.9"
  },
  "vscode": {
   "interpreter": {
    "hash": "337318dc3a4518dcc206275827aae8c8474b04c4f2ad79c74868430f7954bc32"
   }
  }
 },
 "nbformat": 4,
 "nbformat_minor": 4
}
